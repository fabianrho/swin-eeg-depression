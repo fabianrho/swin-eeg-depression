{
 "cells": [
  {
   "cell_type": "code",
   "execution_count": 16,
   "metadata": {},
   "outputs": [],
   "source": [
    "import glob\n",
    "\n",
    "import random\n",
    "\n",
    "save_folder = \"data/data_1s_0overlapTEMP/\"\n",
    "\n",
    "files = glob.glob(f'{save_folder}/*')\n",
    "healthy = []\n",
    "depressed = []\n",
    "\n",
    "for file in files:\n",
    "    id = file.split('/')[-1].split('_')[0]\n",
    "    if id[0] == \"H\":\n",
    "        healthy.append(file)\n",
    "    else:\n",
    "        depressed.append(file)\n",
    "\n",
    "depressed_ids = list(set([file.split('/')[-1].split('_')[0] for file in depressed]))\n",
    "healthy_ids = list(set([file.split('/')[-1].split('_')[0] for file in healthy]))\n",
    "\n",
    "# sort\n",
    "depressed_ids.sort()\n",
    "healthy_ids.sort()\n",
    "\n"
   ]
  },
  {
   "cell_type": "code",
   "execution_count": 17,
   "metadata": {},
   "outputs": [],
   "source": [
    "from tqdm import tqdm"
   ]
  },
  {
   "cell_type": "code",
   "execution_count": 18,
   "metadata": {},
   "outputs": [
    {
     "name": "stderr",
     "output_type": "stream",
     "text": [
      "100%|██████████| 1000/1000 [00:54<00:00, 18.43it/s]"
     ]
    },
    {
     "name": "stdout",
     "output_type": "stream",
     "text": [
      "116\n"
     ]
    },
    {
     "name": "stderr",
     "output_type": "stream",
     "text": [
      "\n"
     ]
    }
   ],
   "source": [
    "n_folds = 10\n",
    "\n",
    "difference = 100000\n",
    "for _ in tqdm(range(1000)):\n",
    "\n",
    "    # shuffle with random seed\n",
    "    # random.seed(42)\n",
    "\n",
    "    random.shuffle(depressed_ids)\n",
    "    random.shuffle(healthy_ids)\n",
    "    # randomly sp\n",
    "    # lit into 10 folds\n",
    "    depressed_folds = []\n",
    "    healthy_folds = []\n",
    "\n",
    "    for i in range(n_folds):\n",
    "        depressed_folds.append(depressed_ids[i::n_folds])\n",
    "        healthy_folds.append(healthy_ids[i::n_folds])\n",
    "\n",
    "    # combine\n",
    "    folds = []\n",
    "    for i in range(n_folds):\n",
    "        folds.append(depressed_folds[i] + healthy_folds[i])\n",
    "\n",
    "    # with open(\"data/folds.txt\", \"w\") as f:\n",
    "    #     f.write(\"\\n\".join([\",\".join(fold) for fold in folds]))\n",
    "\n",
    "    fold_sizes = []\n",
    "\n",
    "    for fold in folds:\n",
    "        fold_files = [file for file in files if file.split('/')[-1].split('_')[0] in fold]\n",
    "        fold_healthy_files = [file for file in fold_files if file.split('/')[-1][0] == \"H\"]\n",
    "        fold_depressed_files = [file for file in fold_files if file.split('/')[-1][0] != \"H\"]\n",
    "        fold_sizes.append(len(fold_depressed_files))\n",
    "\n",
    "    max_fold_difference = max(fold_sizes) - min(fold_sizes)\n",
    "    if max_fold_difference < difference:\n",
    "        difference = max_fold_difference\n",
    "        best_folds = folds\n",
    "\n",
    "print(difference)\n"
   ]
  },
  {
   "cell_type": "code",
   "execution_count": 21,
   "metadata": {},
   "outputs": [
    {
     "data": {
      "text/plain": [
       "58"
      ]
     },
     "execution_count": 21,
     "metadata": {},
     "output_type": "execute_result"
    }
   ],
   "source": [
    "with open(\"data/folds.txt\") as f:\n",
    "    lines = f.readlines()\n",
    "\n",
    "    # remove \\n\n",
    "    lines = [line.replace(\"\\n\",\"\") for line in lines]\n",
    "\n",
    "    folds = [line.split(\",\") for line in lines]\n",
    "\n",
    "len([id for fold in folds for id in fold])"
   ]
  },
  {
   "cell_type": "code",
   "execution_count": 19,
   "metadata": {},
   "outputs": [],
   "source": [
    "# save list to file\n",
    "with open(\"data/folds.txt\", \"w\") as f:\n",
    "    f.write(\"\\n\".join([\",\".join(fold) for fold in best_folds]))"
   ]
  }
 ],
 "metadata": {
  "kernelspec": {
   "display_name": "bci",
   "language": "python",
   "name": "python3"
  },
  "language_info": {
   "codemirror_mode": {
    "name": "ipython",
    "version": 3
   },
   "file_extension": ".py",
   "mimetype": "text/x-python",
   "name": "python",
   "nbconvert_exporter": "python",
   "pygments_lexer": "ipython3",
   "version": "3.12.2"
  }
 },
 "nbformat": 4,
 "nbformat_minor": 2
}
